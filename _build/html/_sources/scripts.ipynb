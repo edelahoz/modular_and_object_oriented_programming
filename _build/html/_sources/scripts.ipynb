{
 "cells": [
  {
   "cell_type": "markdown",
   "metadata": {},
   "source": [
    "# Scripts\n",
    "\n",
    "A script is a file with a sequence of instructions that are executed each time the script is called. The extension for Python files is .py. Let's see an example, we create a file called `myscript.py` with the following commands:\n",
    "```python\n",
    "message = \"Hello world!\"\n",
    "print(message)\n",
    "```\n",
    "\n",
    "One can call the script from the current jupyter notebook:"
   ]
  },
  {
   "cell_type": "code",
   "execution_count": 3,
   "metadata": {},
   "outputs": [
    {
     "name": "stdout",
     "output_type": "stream",
     "text": [
      "Hello world!\n"
     ]
    }
   ],
   "source": [
    "%run myscript.py"
   ]
  },
  {
   "cell_type": "markdown",
   "metadata": {},
   "source": [
    "The instructions written in `myscript.py` have been executed and we have access now to the variables defined in the script."
   ]
  },
  {
   "cell_type": "code",
   "execution_count": 2,
   "metadata": {},
   "outputs": [
    {
     "data": {
      "text/plain": [
       "'Hello world!'"
      ]
     },
     "execution_count": 2,
     "metadata": {},
     "output_type": "execute_result"
    }
   ],
   "source": [
    "message"
   ]
  },
  {
   "cell_type": "markdown",
   "metadata": {},
   "source": [
    "Scripts can also be executed inside a shell terminal by running the following command:\n",
    "\n",
    "```bash\n",
    "python path_to_script_file\n",
    "```\n",
    "\n",
    "If `myscript.py` is in the current working directory:\n",
    " \n",
    "```bash\n",
    "python myscript.py\n",
    "```"
   ]
  }
 ],
 "metadata": {
  "kernelspec": {
   "display_name": "Python 3",
   "language": "python",
   "name": "python3"
  },
  "language_info": {
   "codemirror_mode": {
    "name": "ipython",
    "version": 3
   },
   "file_extension": ".py",
   "mimetype": "text/x-python",
   "name": "python",
   "nbconvert_exporter": "python",
   "pygments_lexer": "ipython3",
   "version": "3.8.5"
  }
 },
 "nbformat": 4,
 "nbformat_minor": 4
}
