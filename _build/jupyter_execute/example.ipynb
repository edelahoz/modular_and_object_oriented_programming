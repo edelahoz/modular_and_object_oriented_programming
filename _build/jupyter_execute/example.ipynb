{
 "cells": [
  {
   "cell_type": "markdown",
   "metadata": {},
   "source": [
    "# OOP. Example"
   ]
  },
  {
   "cell_type": "code",
   "execution_count": 1,
   "metadata": {},
   "outputs": [],
   "source": [
    "class Person:\n",
    "    def __init__(self, name, age):\n",
    "        self.name = name\n",
    "        self.age = age\n",
    "        \n",
    "    def __repr__(self):\n",
    "        return f\"Person({self.name}, {self.age})\"\n",
    "    \n",
    "    def __str__(self):\n",
    "        return f\"{self.name.title()}\"\n",
    "    \n",
    "    def greet(self):\n",
    "        print(f\"Hello! I'm {self.name.title()}\")"
   ]
  },
  {
   "cell_type": "code",
   "execution_count": 2,
   "metadata": {},
   "outputs": [],
   "source": [
    "class Student(Person):\n",
    "    def __init__(self, name, age, student_id):\n",
    "        super().__init__(name, age)\n",
    "        self.student_id = student_id\n",
    "        self.courses = []\n",
    "        \n",
    "    def greet(self):\n",
    "        print(f\"Hello! I'm {self.name.title()}. I study {self.degree}\")\n",
    "        \n",
    "    def enrol_in_course(self, course):\n",
    "        self.courses.append(course)\n",
    "        course.students[self.student_id] = self\n",
    "        \n",
    "    def get_average_grade(self):\n",
    "        total = 0\n",
    "        n = 0\n",
    "        for course in self.courses:\n",
    "            if self.student_id in course.grades.keys():\n",
    "                total += course.grades[self.student_id]\n",
    "                n += 1\n",
    "            else:\n",
    "                print(f\"The grade in {course.name} is not available at the moment\")\n",
    "        print(f\"{self.name} got an average grade of: {total / n}\")\n",
    "    \n",
    "    def get_transcript_of_records(self):\n",
    "        transcript = f\"Transcript of {self.name} ({self.student_id}) \\n\"\n",
    "        for course in self.courses:\n",
    "            if self.student_id in course.grades.keys():\n",
    "                transcript += f\"{course.course_name} ({course.course_code}): {course.get_grade_letter(course.grades[self.student_id])} \\n\"\n",
    "            else:\n",
    "                transcript += f\"{course.course_name} ({course.course_code}): - \\n\"\n",
    "        return transcript"
   ]
  },
  {
   "cell_type": "code",
   "execution_count": 3,
   "metadata": {},
   "outputs": [],
   "source": [
    "class Course:\n",
    "    __ECTS__ = 6\n",
    "    \n",
    "    def __init__(self, name, code, credits=None):\n",
    "        self.course_name = name\n",
    "        self.course_code = code\n",
    "        self.credits = Course.__ECTS__ if credits is None else credits\n",
    "        self.students = {}\n",
    "        self.grades = {}\n",
    "        \n",
    "    def __repr__(self):\n",
    "        return f\"Course({self.course_name}, {self.course_code}, credits={self.credits})\"\n",
    "        \n",
    "    def grade_students(self, student, grades):\n",
    "        for student, grade in zip(student, grades):\n",
    "            if student.student_id in self.students.keys():\n",
    "                self.grades[student.student_id] = grade\n",
    "            else:\n",
    "                print(f\"The student {student.student_id} is not enrolled in {self.course_name}\")\n",
    "                \n",
    "    def get_number_of_enrolled_students(self):\n",
    "        return len(self.students)\n",
    "    \n",
    "    def get_average_grade(self):\n",
    "        print(f\"The average grade in {self.course_name} is: {sum(list(self.grade.values())) / self.get_number_of_enrolled_students()}\")\n",
    "        \n",
    "    def print_grades(self):\n",
    "        curriculum = f\"{self.course_name} ({self.course_code}) grades:\\n\"\n",
    "        for student in self.students.values():\n",
    "            if student.student_id in self.grades.keys():\n",
    "                curriculum += f\"{student.name} ({student.student_id}):  {self.get_grade_letter(self.grades[student.student_id])} \\n\"\n",
    "        print(curriculum)\n",
    "                \n",
    "    @staticmethod\n",
    "    def get_grade_letter(grade):\n",
    "        if (grade >= 9) and (grade <= 10):\n",
    "            return \"A\"\n",
    "        elif (grade >= 7) and (grade < 9):\n",
    "            return \"B\"\n",
    "        elif (grade >= 6) and (grade < 7):\n",
    "            return \"C\"\n",
    "        elif (grade >= 5) and (grade < 6):\n",
    "            return \"D\"\n",
    "        elif (grade >= 0) and (grade < 5):\n",
    "            return \"F\"\n",
    "        else:\n",
    "            raise ValueError(f\"The input grade is not valid: {grade}\")\n",
    "            "
   ]
  },
  {
   "cell_type": "code",
   "execution_count": 4,
   "metadata": {},
   "outputs": [],
   "source": [
    "# Instantiating several objects of the Class Students\n",
    "pedro = Student(\"Pedro\", 21, \"73376\")\n",
    "luisa = Student(\"Luisa\", 22, \"58482\")\n",
    "irene = Student(\"Irene\", 22, \"47363\")\n",
    "elena = Student(\"Elena\", 21, \"35362\")\n",
    "pablo = Student(\"Pablo\", 20, \"72256\")\n",
    "\n",
    "# Intantiating several objects of the Class Course\n",
    "python = Course(\"Introduction to programming with python\", \"M101\")\n",
    "cosmo = Course(\"Cosmology\", \"M102\")\n",
    "particles = Course(\"Particle Physics\", \"M103\")"
   ]
  },
  {
   "cell_type": "code",
   "execution_count": 5,
   "metadata": {},
   "outputs": [],
   "source": [
    "# Let the students enroll in different courses\n",
    "pedro.enrol_in_course(python)\n",
    "luisa.enrol_in_course(python)\n",
    "irene.enrol_in_course(python)\n",
    "elena.enrol_in_course(python)\n",
    "pablo.enrol_in_course(python)\n",
    "\n",
    "elena.enrol_in_course(cosmo)\n",
    "pedro.enrol_in_course(cosmo)\n",
    "luisa.enrol_in_course(cosmo)\n",
    "\n",
    "irene.enrol_in_course(particles)\n",
    "pablo.enrol_in_course(particles)"
   ]
  },
  {
   "cell_type": "code",
   "execution_count": 6,
   "metadata": {},
   "outputs": [
    {
     "name": "stdout",
     "output_type": "stream",
     "text": [
      "The student 47363 is not enrolled in Cosmology\n"
     ]
    }
   ],
   "source": [
    "# Let's grade the students\n",
    "python.grade_students([elena, pedro, luisa, irene, pablo], [9, 8.5, 5, 9.5, 7])\n",
    "cosmo.grade_students([elena, pedro, luisa, irene], [10, 7.5, 9, 7])\n",
    "particles.grade_students([irene], [10])"
   ]
  },
  {
   "cell_type": "markdown",
   "metadata": {},
   "source": [
    "### Comparison static vs. class methods"
   ]
  },
  {
   "cell_type": "code",
   "execution_count": 7,
   "metadata": {},
   "outputs": [
    {
     "name": "stdout",
     "output_type": "stream",
     "text": [
      "Number of students enrolled in Cosmology: 3\n"
     ]
    }
   ],
   "source": [
    "# Static methods\n",
    "print(f\"Number of students enrolled in {cosmo.course_name}: {cosmo.get_number_of_enrolled_students()}\")"
   ]
  },
  {
   "cell_type": "code",
   "execution_count": 8,
   "metadata": {},
   "outputs": [
    {
     "name": "stdout",
     "output_type": "stream",
     "text": [
      "Calling from class: A\n",
      "Calling from object: A\n"
     ]
    }
   ],
   "source": [
    "# Class methods\n",
    "print(\"Calling from class:\", Course.get_grade_letter(9))\n",
    "print(\"Calling from object:\", cosmo.get_grade_letter(9))"
   ]
  },
  {
   "cell_type": "markdown",
   "metadata": {},
   "source": [
    "## Change behaviour from different classes"
   ]
  },
  {
   "cell_type": "code",
   "execution_count": 9,
   "metadata": {},
   "outputs": [
    {
     "name": "stdout",
     "output_type": "stream",
     "text": [
      "Irene got an average grade of: 9.75\n"
     ]
    }
   ],
   "source": [
    "irene.get_average_grade()"
   ]
  },
  {
   "cell_type": "code",
   "execution_count": 10,
   "metadata": {},
   "outputs": [
    {
     "name": "stdout",
     "output_type": "stream",
     "text": [
      "Transcript of Pedro (73376) \n",
      "Introduction to programming with python (M101): B \n",
      "Cosmology (M102): B \n",
      "\n",
      "Transcript of Luisa (58482) \n",
      "Introduction to programming with python (M101): D \n",
      "Cosmology (M102): A \n",
      "\n",
      "Transcript of Irene (47363) \n",
      "Introduction to programming with python (M101): A \n",
      "Particle Physics (M103): A \n",
      "\n",
      "Transcript of Elena (35362) \n",
      "Introduction to programming with python (M101): A \n",
      "Cosmology (M102): A \n",
      "\n",
      "Transcript of Pablo (72256) \n",
      "Introduction to programming with python (M101): B \n",
      "Particle Physics (M103): - \n",
      "\n"
     ]
    }
   ],
   "source": [
    "# Get the transcript of records of the students enrolled in introduction to programming\n",
    "for student in python.students.values():\n",
    "    print(student.get_transcript_of_records())"
   ]
  },
  {
   "cell_type": "code",
   "execution_count": 11,
   "metadata": {},
   "outputs": [
    {
     "name": "stdout",
     "output_type": "stream",
     "text": [
      "Introduction to programming with python (M101) grades:\n",
      "Pedro (73376):  B \n",
      "Luisa (58482):  D \n",
      "Irene (47363):  A \n",
      "Elena (35362):  A \n",
      "Pablo (72256):  B \n",
      "\n"
     ]
    }
   ],
   "source": [
    "python.print_grades()"
   ]
  },
  {
   "cell_type": "markdown",
   "metadata": {},
   "source": [
    "```python\n",
    "class Person:\n",
    "    def greet():\n",
    "        pass\n",
    "    \n",
    "class Student(Person):\n",
    "    def greet():\n",
    "        print(\"Hi! I'm a student\")\n",
    "        \n",
    "class Teacher(Person):\n",
    "    def greet():\n",
    "        print(\"Hi! I'm a teacher\") \n",
    "        \n",
    "class TeachingAssistant(Person):\n",
    "    def greet():\n",
    "        print(\"Hi! I'm a TA\")\n",
    "        \n",
    "class PhDStudent(TeachingAssistant, Student, Teacher):\n",
    "    pass\n",
    "\n",
    "elena = PhDStudent()\n",
    "elena.greet()\n",
    "```"
   ]
  },
  {
   "cell_type": "code",
   "execution_count": 12,
   "metadata": {},
   "outputs": [],
   "source": [
    "class Person:\n",
    "    def greet(self):\n",
    "        pass\n",
    "    \n",
    "class Student(Person):\n",
    "    def greet(self):\n",
    "        print(\"Hi! I'm a student\")\n",
    "        \n",
    "class Teacher(Person):\n",
    "    def greet(self):\n",
    "        print(\"Hi! I'm a teacher\") \n",
    "        \n",
    "class TeachingAssistant(Person):\n",
    "    def greet(self):\n",
    "        print(\"Hi! I'm a TA\")\n",
    "        \n",
    "class PhDStudent(TeachingAssistant, Student, Teacher):\n",
    "    pass\n"
   ]
  },
  {
   "cell_type": "code",
   "execution_count": 13,
   "metadata": {},
   "outputs": [],
   "source": [
    "elena = PhDStudent()"
   ]
  },
  {
   "cell_type": "markdown",
   "metadata": {},
   "source": [
    "```python\n",
    "class Sales:\n",
    "    def __init__(self, id):\n",
    "        self.id = id\n",
    "        id = 100\n",
    "\n",
    "val = Sales(123)\n",
    "print (val.id)\n",
    "```"
   ]
  },
  {
   "cell_type": "code",
   "execution_count": null,
   "metadata": {},
   "outputs": [],
   "source": []
  },
  {
   "cell_type": "code",
   "execution_count": null,
   "metadata": {},
   "outputs": [],
   "source": []
  }
 ],
 "metadata": {
  "kernelspec": {
   "display_name": "Python 3",
   "language": "python",
   "name": "python3"
  },
  "language_info": {
   "codemirror_mode": {
    "name": "ipython",
    "version": 3
   },
   "file_extension": ".py",
   "mimetype": "text/x-python",
   "name": "python",
   "nbconvert_exporter": "python",
   "pygments_lexer": "ipython3",
   "version": "3.8.5"
  }
 },
 "nbformat": 4,
 "nbformat_minor": 4
}