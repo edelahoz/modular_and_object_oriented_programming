{
 "cells": [
  {
   "cell_type": "markdown",
   "metadata": {},
   "source": [
    "# Objects and Classes\n",
    "\n",
    "In OOP, a **Class** is a blueprint for creating objects (a particular data structure), providing initial values for state (member variables or attributes), and implementations of behavior (member functions or methods). Classes are used to create user-defined data structures. Like integers or strings but more complex. \n",
    "\n",
    "A **Class** is the abstract representation of a concept, like dog, integer number, person, etc ... It doesn’t contain any data. On the other hand, an **instance** is an object that is built from a class and contains real data. Let see an example:"
   ]
  },
  {
   "cell_type": "code",
   "execution_count": 1,
   "metadata": {},
   "outputs": [],
   "source": [
    "class Person:\n",
    "    specie = 'Homo Sapiens Sapiens'\n",
    "    \n",
    "    def __init__(self, name, age):\n",
    "        self.name = name\n",
    "        self.age = age\n",
    "        \n",
    "        \n",
    "pepe = Person(\"pepe garcía\", 22)\n",
    "pepa = Person(\"pepa jiménez\", 21)"
   ]
  },
  {
   "cell_type": "markdown",
   "metadata": {},
   "source": [
    "In the above snippet we have defined a class Person. A Person has two attributes name and age. The class itself does not have assigned values to those attributes unlike pepe. `pepe` and `pepa` are two different instances of the Class Person with a given name and age.\n",
    "\n",
    "<div class=\"alert alert-block alert-info\"><b>Note: </b>\n",
    "Python class names are written in CapitalizedWords notation by convention.\n",
    "</div>\n",
    "\n",
    "\n",
    "Classes are composed of attributes and methods.\n",
    "\n",
    "## Attributes \n",
    "\n",
    "- **Class attributes**: data that belong to the class as a whole. There is only one copy of each one for all instances of the class.\n",
    "- **Instance variables or attributes**: data that belongs to individual objects. Each object has its own copy of the attributes.\n",
    "\n",
    "In Python **instance attributes** are defined in the `__init__()` function while **class attributes** are defined by  assigning values to variables outside `__init__()`. Usually they are defined immediately after the first line of the class name. `name` and `age` are instance attributes while `specie` is a class attribute. \n",
    "\n",
    "`__init__` is a reseved method in python classes. It is called as a constructor in object oriented terminology. This method is called when an object is created from a class and it allows the class to initialize the attributes of the class.\n",
    "\n",
    "The first parameter given to `__init__`, `self` is used to represent the instance of a class. By using the `self` keyword we access the attributes and methods of the class in python. All the instance methods (see below) need this reference as the first parameter.\n",
    "\n",
    "Attributes can be accessed with dot notation:"
   ]
  },
  {
   "cell_type": "code",
   "execution_count": 2,
   "metadata": {},
   "outputs": [
    {
     "data": {
      "text/plain": [
       "'pepa jiménez'"
      ]
     },
     "execution_count": 2,
     "metadata": {},
     "output_type": "execute_result"
    }
   ],
   "source": [
    "pepa.name"
   ]
  },
  {
   "cell_type": "code",
   "execution_count": 3,
   "metadata": {},
   "outputs": [
    {
     "data": {
      "text/plain": [
       "'Homo Sapiens Sapiens'"
      ]
     },
     "execution_count": 3,
     "metadata": {},
     "output_type": "execute_result"
    }
   ],
   "source": [
    "pepe.specie"
   ]
  },
  {
   "cell_type": "code",
   "execution_count": 4,
   "metadata": {},
   "outputs": [
    {
     "data": {
      "text/plain": [
       "'Homo Sapiens Sapiens'"
      ]
     },
     "execution_count": 4,
     "metadata": {},
     "output_type": "execute_result"
    }
   ],
   "source": [
    "Person.specie"
   ]
  },
  {
   "cell_type": "markdown",
   "metadata": {},
   "source": [
    "The attributes values can be changed dynamically, i.e., custom objects are mutable by default."
   ]
  },
  {
   "cell_type": "code",
   "execution_count": 5,
   "metadata": {},
   "outputs": [
    {
     "data": {
      "text/plain": [
       "45"
      ]
     },
     "execution_count": 5,
     "metadata": {},
     "output_type": "execute_result"
    }
   ],
   "source": [
    "pepa.age = 45\n",
    "pepa.age"
   ]
  },
  {
   "cell_type": "markdown",
   "metadata": {},
   "source": [
    "## Methods \n",
    "\n",
    "- **Instance methods**: \n",
    "    - Functions that belong to individual objects, and have access to instance variables for the specific object they are called on, inputs, and class variables. \n",
    "    - Can only be called from an instance of that class. \n",
    "    - In Python, the first parameter given to this type of methods is `self`, a reference to the instance. (Note that self is just a name convetion, other names can be given but it is good practice to use self.)\n",
    "    - Just like .__init__(), an instance method’s first parameter is always self.\n",
    "\n",
    "\n",
    "- **Class methods**: \n",
    "    - Methods that are bound to the class and not instances of the class. \n",
    "    - They have access to the state of the class as it takes class parameter that points to the class and not the object instance (usually `cls`) as a first parameter. \n",
    "    - They can modify a class state that would apply across all the instances of the class. For example, a class variable that will be applicable to all the instances. \n",
    "    - They can be called from the class itself or from instances of it.\n",
    "    - They are specified by the decorator `@classmethod`. \n",
    "\n",
    "- **Static methods**: \n",
    "    - Functions that belong to a class but does not need access to any attribute. \n",
    "    - They could be written outside the class but they are defined within a class since they are conceptually intrisically related to that class.\n",
    "    - They can be called from the class itself or from instances of it.\n",
    "    - They are specified by the decorator `@staticmethod`. "
   ]
  },
  {
   "cell_type": "code",
   "execution_count": 6,
   "metadata": {},
   "outputs": [],
   "source": [
    "from datetime import date\n",
    "\n",
    "class Person:\n",
    "    specie = \"Homo Sapiens Sapiens\"\n",
    "    \n",
    "    def __init__(self, name, birthdate):\n",
    "        self.name = name\n",
    "        self.birthdate = birthdate\n",
    "        # One can calculate attributes from given inputs\n",
    "        today = date.today()\n",
    "        # The _ before an attribute is to indicate that the attribute should not be modified\n",
    "        self._age = today.year - self.birthdate.year - ((today.month, today.day) < (self.birthdate.month, self.birthdate.day))\n",
    "        \n",
    "    \n",
    "    def greet(self):\n",
    "        print(f\"Hello! I'm {self.name.title()}.\")\n",
    "        \n",
    "    def get_age(self):\n",
    "        return self._age\n",
    "    \n",
    "    @classmethod \n",
    "    def print_specie(cls):\n",
    "        print(f\"I'm a {cls.specie}\")\n",
    "        \n",
    "    @classmethod \n",
    "    def generate_offspring(cls, name):\n",
    "        return cls(name, date.today())\n",
    "        \n",
    "    @staticmethod\n",
    "    def is_adult(age):\n",
    "        return age > 18\n",
    "        \n",
    "        \n",
    "pepe = Person(\"pepe garcía\", date(1994, 3, 12))\n",
    "pepa = Person(\"pepa jiménez\", date(1995, 2, 18))"
   ]
  },
  {
   "cell_type": "code",
   "execution_count": 7,
   "metadata": {},
   "outputs": [
    {
     "name": "stdout",
     "output_type": "stream",
     "text": [
      "Hello! I'm Pepito.\n"
     ]
    },
    {
     "data": {
      "text/plain": [
       "0"
      ]
     },
     "execution_count": 7,
     "metadata": {},
     "output_type": "execute_result"
    }
   ],
   "source": [
    "pepito = Person.generate_offspring(\"pepito\")\n",
    "pepito.greet()\n",
    "pepito.get_age()"
   ]
  },
  {
   "cell_type": "markdown",
   "metadata": {},
   "source": [
    "The class Person has now two instance methods `greet` and `get_age`, a class method `print_specie` and a static method called `hello`."
   ]
  },
  {
   "cell_type": "code",
   "execution_count": 8,
   "metadata": {},
   "outputs": [
    {
     "name": "stdout",
     "output_type": "stream",
     "text": [
      "Hello! I'm Pepe García.\n"
     ]
    }
   ],
   "source": [
    "pepe.greet()"
   ]
  },
  {
   "cell_type": "code",
   "execution_count": 9,
   "metadata": {},
   "outputs": [
    {
     "data": {
      "text/plain": [
       "26"
      ]
     },
     "execution_count": 9,
     "metadata": {},
     "output_type": "execute_result"
    }
   ],
   "source": [
    "pepa.get_age()"
   ]
  },
  {
   "cell_type": "markdown",
   "metadata": {},
   "source": [
    "Class method vs Static Method\n",
    "\n",
    "- A class method takes cls as the first parameter while a static method needs no specific parameters.\n",
    "- A class method can access or modify the class state while a static method can’t access or modify it.\n",
    "- In general, static methods know nothing about the class state. They are utility-type methods that take some parameters and work upon those parameters. On the other hand class methods must have class as a parameter.\n"
   ]
  },
  {
   "cell_type": "code",
   "execution_count": 10,
   "metadata": {},
   "outputs": [
    {
     "name": "stdout",
     "output_type": "stream",
     "text": [
      "I'm a Homo Sapiens Sapiens\n"
     ]
    }
   ],
   "source": [
    "Person.print_specie()"
   ]
  },
  {
   "cell_type": "code",
   "execution_count": 11,
   "metadata": {},
   "outputs": [
    {
     "ename": "AttributeError",
     "evalue": "'Person' object has no attribute 'age'",
     "output_type": "error",
     "traceback": [
      "\u001b[0;31m---------------------------------------------------------------------------\u001b[0m",
      "\u001b[0;31mAttributeError\u001b[0m                            Traceback (most recent call last)",
      "\u001b[0;32m<ipython-input-11-808840afed90>\u001b[0m in \u001b[0;36m<module>\u001b[0;34m\u001b[0m\n\u001b[0;32m----> 1\u001b[0;31m \u001b[0mpepe\u001b[0m\u001b[0;34m.\u001b[0m\u001b[0mis_adult\u001b[0m\u001b[0;34m(\u001b[0m\u001b[0mpepe\u001b[0m\u001b[0;34m.\u001b[0m\u001b[0mage\u001b[0m\u001b[0;34m)\u001b[0m\u001b[0;34m\u001b[0m\u001b[0;34m\u001b[0m\u001b[0m\n\u001b[0m",
      "\u001b[0;31mAttributeError\u001b[0m: 'Person' object has no attribute 'age'"
     ]
    }
   ],
   "source": [
    "pepe.is_adult(pepe.age)"
   ]
  },
  {
   "cell_type": "code",
   "execution_count": 18,
   "metadata": {},
   "outputs": [
    {
     "data": {
      "text/plain": [
       "22"
      ]
     },
     "execution_count": 18,
     "metadata": {},
     "output_type": "execute_result"
    }
   ],
   "source": [
    "pepe = Person(\"pepe\", date(1999, 3, 20))\n",
    "pepe.age"
   ]
  }
 ],
 "metadata": {
  "kernelspec": {
   "display_name": "Python 3",
   "language": "python",
   "name": "python3"
  },
  "language_info": {
   "codemirror_mode": {
    "name": "ipython",
    "version": 3
   },
   "file_extension": ".py",
   "mimetype": "text/x-python",
   "name": "python",
   "nbconvert_exporter": "python",
   "pygments_lexer": "ipython3",
   "version": "3.8.5"
  }
 },
 "nbformat": 4,
 "nbformat_minor": 4
}