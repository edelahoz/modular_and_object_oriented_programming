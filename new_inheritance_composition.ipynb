{
 "cells": [
  {
   "cell_type": "markdown",
   "metadata": {},
   "source": [
    "# Inheritance and  Composition\n",
    "\n",
    "**Inheritance** is a way of arranging objects in a hierarchy from the most general to the most specific. An object which inherits from another object is considered to be a subtype of that object. As we saw in the previous chapter, all objects in Python inherit from object. We can say that a string, an integer or a `Person` instance is an object instance. When we can describe the relationship between two objects using the phrase _is-a_, that relationship is inheritance.\n",
    "\n",
    "Child classes can override or extend the attributes and methods of parent classes. In other words, child classes inherit all of the parent’s attributes and methods but can also specify attributes and methods that are unique to themselves.\n",
    "\n",
    "\n",
    "**Composition** Composition is a concept that models a has a relationship. It enables creating complex types by combining objects of other types. This means that a class Composite can contain an object of another class Component. This relationship means that a Composite has a Component. For example, we could have added an attribute birthday to the class `Person` given by a `datetime.date` object.\n",
    "\n",
    "Composition enables you to reuse code by adding objects to other objects, as opposed to inheriting the interface and implementation of other classes. \n",
    "\n",
    "## Inheritance\n",
    "\n",
    "We have already worked with inheritance without noticing it. This is because every class you create in Python implicitly derives from object. Let's see an example:"
   ]
  },
  {
   "cell_type": "code",
   "execution_count": 1,
   "metadata": {},
   "outputs": [],
   "source": [
    "class Person:\n",
    "    pass"
   ]
  },
  {
   "cell_type": "code",
   "execution_count": 2,
   "metadata": {},
   "outputs": [
    {
     "name": "stdout",
     "output_type": "stream",
     "text": [
      "['__class__', '__delattr__', '__dict__', '__dir__', '__doc__', '__eq__', '__format__', '__ge__', '__getattribute__', '__gt__', '__hash__', '__init__', '__init_subclass__', '__le__', '__lt__', '__module__', '__ne__', '__new__', '__reduce__', '__reduce_ex__', '__repr__', '__setattr__', '__sizeof__', '__str__', '__subclasshook__', '__weakref__']\n"
     ]
    }
   ],
   "source": [
    "pepe = Person()\n",
    "print(dir(pepe))"
   ]
  },
  {
   "cell_type": "markdown",
   "metadata": {},
   "source": [
    "Although we haven't defined anything yet in the class Person, the object pepe has several methods that are inherited from the class Object. \n",
    "\n",
    "<div class=\"alert alert-block alert-info\"><b>Note: </b>User-defined exceptions must inherit from BaseException instead of Object. \n",
    "    \n",
    "```python\n",
    "class MyException(BaseException):\n",
    "    pass\n",
    "```\n",
    "</div>\n",
    "\n",
    "Let's create a `Student` class, `Researcher` class and a `TeacherAssistant` that inherits from `Person`:"
   ]
  },
  {
   "cell_type": "code",
   "execution_count": 3,
   "metadata": {},
   "outputs": [],
   "source": [
    "from datetime import date\n",
    "class Person:\n",
    "    specie = \"Homo Sapiens Sapiens\"\n",
    "    \n",
    "    def __init__(self, name, birthdate):\n",
    "        self.name = name\n",
    "        self.birthdate = birthdate\n",
    "        \n",
    "    @property\n",
    "    def age(self):\n",
    "        today = date.today()\n",
    "        age = today.year - self.birthdate.year - ((today.month, today.day) < (self.birthdate.month, self.birthdate.day))\n",
    "        return age\n",
    "    \n",
    "    def __repr__(self):\n",
    "        return f\"Person({self.name}, {repr(self.birthdate)})\"\n",
    "    \n",
    "    def __str__(self):\n",
    "        return f\"{self.name.title()}\"\n",
    "    \n",
    "    def greet(self):\n",
    "        print(f\"Hello! I'm {self.name.title()}.\")\n",
    "        \n",
    "    def get_age(self):\n",
    "        return self.age\n",
    "    \n",
    "    @classmethod \n",
    "    def print_specie(cls):\n",
    "        print(f\"I'm a {cls.specie}\")\n",
    "        \n",
    "    @classmethod \n",
    "    def generate_offspring(cls, name):\n",
    "        return cls(name,0)\n",
    "        \n",
    "    @staticmethod\n",
    "    def is_adult(age):\n",
    "        return age > 18 \n",
    "\n",
    "    \n",
    "class Student(Person):\n",
    "    def __init__(self, name, birthdate, student_id):\n",
    "        super().__init__(name, birthdate) # The super() method, allows to invoke methods defined on the base class.\n",
    "        self.student_id = student_id\n",
    "        \n",
    "class Researcher(Person):\n",
    "    def __init__(self, name, birthdate, field_of_research):\n",
    "        super().__init__(name, birthdate) # The super() method, allows to invoke methods defined on the base class.\n",
    "        self.field = field_of_research\n",
    "        \n",
    "class TeacherAssistant(Person):\n",
    "    def __init__(self, name, birthdate, course):\n",
    "        super().__init__(name, birthdate) # The super() method, allows to invoke methods defined on the base class.\n",
    "        self.course = course"
   ]
  },
  {
   "cell_type": "code",
   "execution_count": 4,
   "metadata": {},
   "outputs": [],
   "source": [
    "fulanito = Student(\"Fulanito Fernández\", date(2000, 4, 21), \"7254\" )"
   ]
  },
  {
   "cell_type": "markdown",
   "metadata": {},
   "source": [
    "An object from Student has inherited the attributes and methods from the class `Person`."
   ]
  },
  {
   "cell_type": "code",
   "execution_count": 5,
   "metadata": {},
   "outputs": [
    {
     "name": "stdout",
     "output_type": "stream",
     "text": [
      "I'm a Homo Sapiens Sapiens\n"
     ]
    }
   ],
   "source": [
    "fulanito.print_specie()"
   ]
  },
  {
   "cell_type": "code",
   "execution_count": 6,
   "metadata": {},
   "outputs": [
    {
     "name": "stdout",
     "output_type": "stream",
     "text": [
      "Hello! I'm Fulanito Fernández.\n"
     ]
    }
   ],
   "source": [
    "fulanito.greet()"
   ]
  },
  {
   "cell_type": "code",
   "execution_count": 7,
   "metadata": {},
   "outputs": [
    {
     "name": "stdout",
     "output_type": "stream",
     "text": [
      "['__class__', '__delattr__', '__dict__', '__dir__', '__doc__', '__eq__', '__format__', '__ge__', '__getattribute__', '__gt__', '__hash__', '__init__', '__init_subclass__', '__le__', '__lt__', '__module__', '__ne__', '__new__', '__reduce__', '__reduce_ex__', '__repr__', '__setattr__', '__sizeof__', '__str__', '__subclasshook__', '__weakref__', 'age', 'birthdate', 'generate_offspring', 'get_age', 'greet', 'is_adult', 'name', 'print_specie', 'specie', 'student_id']\n"
     ]
    }
   ],
   "source": [
    "print(dir(fulanito))"
   ]
  },
  {
   "cell_type": "markdown",
   "metadata": {},
   "source": [
    "A child class can also override the parent's methods:"
   ]
  },
  {
   "cell_type": "code",
   "execution_count": 8,
   "metadata": {},
   "outputs": [],
   "source": [
    "class Student(Person):\n",
    "    def __init__(self, name, birthdate, student_id):\n",
    "        super().__init__(name, birthdate) # The super() method, allows to invoke methods defined on the base class.\n",
    "        self.student_id = student_id\n",
    "        \n",
    "    def greet(self):\n",
    "        print(f\"Hello! I'm {self.name.title()} and I'm a student.\")"
   ]
  },
  {
   "cell_type": "code",
   "execution_count": 9,
   "metadata": {},
   "outputs": [
    {
     "name": "stdout",
     "output_type": "stream",
     "text": [
      "Hello! I'm Fulanito Fernández and I'm a student.\n"
     ]
    }
   ],
   "source": [
    "fulanito = Student(\"Fulanito Fernández\", date(2000, 4, 21), \"7254\" )\n",
    "fulanito.greet()"
   ]
  },
  {
   "cell_type": "markdown",
   "metadata": {},
   "source": [
    "### Inheriting Multiple Classes\n",
    "\n",
    "Python is one of the few modern programming languages that supports multiple inheritance. Multiple inheritance is the ability to derive a class from multiple base classes at the same time."
   ]
  },
  {
   "cell_type": "code",
   "execution_count": 10,
   "metadata": {},
   "outputs": [],
   "source": [
    "class Student(Person):\n",
    "    def __init__(self, name, birthdate, student_id=None, **kwargs):\n",
    "        super().__init__(name, birthdate, **kwargs) \n",
    "        self.student_id = student_id \n",
    "        \n",
    "    def study(self, hours):\n",
    "        print(f\"Studying for {hours} hours\")\n",
    "        time.sleep(hours)\n",
    "        print(\"Finish studying\")\n",
    "        \n",
    "class Researcher(Person):\n",
    "    def __init__(self, name, birthdate, field=None, **kwargs):\n",
    "        super().__init__(name, birthdate, **kwargs) \n",
    "        self.field = field\n",
    "        \n",
    "    def publish_paper(self, journal):\n",
    "        print(f\"{self.name} published a paper in {journal}\")\n",
    "        \n",
    "class TeacherAssistant(Person):\n",
    "    def __init__(self, name, birthdate, course=None, **kwargs):\n",
    "        super().__init__(name, birthdate, **kwargs) \n",
    "        self.course = course\n",
    "        \n",
    "    def give_lecture(self):\n",
    "        print(f\"{self.name} gives a lecture on {self.course}\")\n",
    "            \n",
    "\n",
    "class PhDStudent(Researcher, Student, TeacherAssistant):\n",
    "    def __init__(self, name, birthdate, student_id=None, field=None, course=None):\n",
    "        super().__init__(name, birthdate, student_id=student_id, field=field, course=course)  # this calls all constructors up to Foo\n",
    "\n",
    "        "
   ]
  },
  {
   "cell_type": "code",
   "execution_count": 11,
   "metadata": {},
   "outputs": [],
   "source": [
    "elena = PhDStudent(\"Elena\", date(1995,8,8), student_id=\"0102\", field=\"Cosmology\", course=\"Programming with Python\")"
   ]
  },
  {
   "cell_type": "code",
   "execution_count": 12,
   "metadata": {},
   "outputs": [
    {
     "name": "stdout",
     "output_type": "stream",
     "text": [
      "['__class__', '__delattr__', '__dict__', '__dir__', '__doc__', '__eq__', '__format__', '__ge__', '__getattribute__', '__gt__', '__hash__', '__init__', '__init_subclass__', '__le__', '__lt__', '__module__', '__ne__', '__new__', '__reduce__', '__reduce_ex__', '__repr__', '__setattr__', '__sizeof__', '__str__', '__subclasshook__', '__weakref__', 'age', 'birthdate', 'course', 'field', 'generate_offspring', 'get_age', 'give_lecture', 'greet', 'is_adult', 'name', 'print_specie', 'publish_paper', 'specie', 'student_id', 'study']\n"
     ]
    }
   ],
   "source": [
    "print(dir(elena))"
   ]
  },
  {
   "cell_type": "code",
   "execution_count": 13,
   "metadata": {},
   "outputs": [
    {
     "name": "stdout",
     "output_type": "stream",
     "text": [
      "Elena published a paper in JCAP\n"
     ]
    }
   ],
   "source": [
    "elena.publish_paper(\"JCAP\")"
   ]
  },
  {
   "cell_type": "code",
   "execution_count": 14,
   "metadata": {},
   "outputs": [
    {
     "name": "stdout",
     "output_type": "stream",
     "text": [
      "Elena gives a lecture on Programming with Python\n"
     ]
    }
   ],
   "source": [
    "elena.give_lecture()"
   ]
  },
  {
   "cell_type": "markdown",
   "metadata": {},
   "source": [
    "**Method Resolution Order (MRO)**\n",
    "\n",
    "In multiple inheritances, the methods are executed based on the order specified while inheriting the classes."
   ]
  },
  {
   "cell_type": "code",
   "execution_count": 15,
   "metadata": {},
   "outputs": [
    {
     "data": {
      "text/plain": [
       "(__main__.PhDStudent,\n",
       " __main__.Researcher,\n",
       " __main__.Student,\n",
       " __main__.TeacherAssistant,\n",
       " __main__.Person,\n",
       " object)"
      ]
     },
     "execution_count": 15,
     "metadata": {},
     "output_type": "execute_result"
    }
   ],
   "source": [
    "PhDStudent.__mro__"
   ]
  },
  {
   "cell_type": "markdown",
   "metadata": {},
   "source": [
    "## Composition\n",
    "\n",
    "Composition is an object oriented design concept that models a has a relationship. In composition, a class known as composite contains an object of another class known to as component. In other words, a composite class has a component of another class.\n",
    "\n",
    "Relationships like this can be one-to-one, one-to-many or many-to-many, and they can be unidirectional or bidirectional, depending on the specifics of the the roles which the objects fulfil.\n",
    "\n",
    "Composition is more flexible than inheritance because it models a loosely coupled relationship. Changes to a component class have minimal or no effects on the composite class. Designs based on composition are more suitable to change\n",
    "\n",
    "Let's see an example of composition. First consider two classes `Student` and `Course`. An object of Student can be enrolled in many Course, while a given Course can have many students enrolled. This following implementation shows a one-to-one relationship\n"
   ]
  },
  {
   "cell_type": "code",
   "execution_count": 16,
   "metadata": {},
   "outputs": [],
   "source": [
    "class Student(Person):\n",
    "    def __init__(self, name, birthdate, student_id=None, **kwargs):\n",
    "        super().__init__(name, birthdate)\n",
    "        self.student_id = student_id\n",
    "        self.courses = []\n",
    "\n",
    "    def study(self, hours):\n",
    "        print(f\"Studying for {hours} hours\")\n",
    "        time.sleep(hours)\n",
    "        print(\"Finish studying\")\n",
    "\n",
    "    def enrol_in_course(self, course):\n",
    "        self.courses.append(course)\n",
    "        course.students[self.student_id] = self\n",
    "        \n",
    "    def get_average_grade(self):\n",
    "        total = 0\n",
    "        n = 0\n",
    "        for course in self.courses:\n",
    "            if self.student_id in course.grades.keys():\n",
    "                total += course.grades[self.student_id]\n",
    "                n += 1\n",
    "            else:\n",
    "                print(f\"The grade in {course.name} is not available at the moment\")\n",
    "        print(f\"{self.name} got an average grade of: {total / n}\")\n",
    "    \n",
    "    def get_transcript_of_records(self):\n",
    "        transcript = f\"Transcript of {self.name} ({self.student_id}) \\n\"\n",
    "        for course in self.courses:\n",
    "            if self.student_id in course.grades.keys():\n",
    "                transcript += f\"{course.course_name} ({course.course_code}): {course.get_grade_letter(course.grades[self.student_id])} \\n\"\n",
    "            else:\n",
    "                transcript += f\"{course.course_name} ({course.course_code}): - \\n\"\n",
    "        return transcript"
   ]
  },
  {
   "cell_type": "code",
   "execution_count": 17,
   "metadata": {},
   "outputs": [],
   "source": [
    "class Course:\n",
    "    __ECTS__ = 6\n",
    "    \n",
    "    def __init__(self, name, code, credits=None):\n",
    "        self.course_name = name\n",
    "        self.course_code = code\n",
    "        self.credits = Course.__ECTS__ if credits is None else credits\n",
    "        self.students = {}\n",
    "        self.grades = {}\n",
    "        \n",
    "    def __repr__(self):\n",
    "        return f\"Course({self.course_name}, {self.course_code}, credits={self.credits})\"\n",
    "        \n",
    "    def grade_students(self, student, grades):\n",
    "        for student, grade in zip(student, grades):\n",
    "            if student.student_id in self.students.keys():\n",
    "                self.grades[student.student_id] = grade\n",
    "            else:\n",
    "                print(f\"The student {student.student_id} is not enrolled in {self.course_name}\")\n",
    "                \n",
    "    def get_number_of_enrolled_students(self):\n",
    "        return len(self.students)\n",
    "    \n",
    "    def get_average_grade(self):\n",
    "        print(f\"The average grade in {self.course_name} is: {sum(list(self.grade.values())) / self.get_number_of_enrolled_students()}\")\n",
    "        \n",
    "    def print_grades(self):\n",
    "        curriculum = f\"{self.course_name} ({self.course_code}) grades:\\n\"\n",
    "        for student in self.students.values():\n",
    "            if student.student_id in self.grades.keys():\n",
    "                curriculum += f\"{student.name} ({student.student_id}):  {self.get_grade_letter(self.grades[student.student_id])} \\n\"\n",
    "        print(curriculum)\n",
    "                \n",
    "    @staticmethod\n",
    "    def get_grade_letter(grade):\n",
    "        if (grade >= 9) and (grade <= 10):\n",
    "            return \"A\"\n",
    "        elif (grade >= 7) and (grade < 9):\n",
    "            return \"B\"\n",
    "        elif (grade >= 6) and (grade < 7):\n",
    "            return \"C\"\n",
    "        elif (grade >= 5) and (grade < 6):\n",
    "            return \"D\"\n",
    "        elif (grade >= 0) and (grade < 5):\n",
    "            return \"F\"\n",
    "        else:\n",
    "            raise ValueError(f\"The input grade is not valid: {grade}\")\n",
    "            "
   ]
  },
  {
   "cell_type": "code",
   "execution_count": 18,
   "metadata": {},
   "outputs": [],
   "source": [
    "# Instantiating several objects of the Class Students\n",
    "pedro = Student(\"Pedro\", date(1999, 4, 2), student_id=\"73376\")\n",
    "luisa = Student(\"Luisa\", date(1999, 9, 3), student_id=\"58482\")\n",
    "irene = Student(\"Irene\", date(1999, 1, 22), student_id=\"47363\")\n",
    "elena = Student(\"Elena\", date(1999, 8, 8), student_id=\"35362\")\n",
    "pablo = Student(\"Pablo\", date(1999, 5, 12), student_id=\"72256\")\n",
    "\n",
    "# Intantiating several objects of the Class Course\n",
    "python = Course(\"Introduction to programming with python\", \"M101\")\n",
    "cosmo = Course(\"Cosmology\", \"M102\")\n",
    "particles = Course(\"Particle Physics\", \"M103\")"
   ]
  },
  {
   "cell_type": "code",
   "execution_count": 19,
   "metadata": {},
   "outputs": [],
   "source": [
    "# Let the students enroll in different courses\n",
    "pedro.enrol_in_course(python)\n",
    "luisa.enrol_in_course(python)\n",
    "irene.enrol_in_course(python)\n",
    "elena.enrol_in_course(python)\n",
    "pablo.enrol_in_course(python)\n",
    "\n",
    "elena.enrol_in_course(cosmo)\n",
    "pedro.enrol_in_course(cosmo)\n",
    "luisa.enrol_in_course(cosmo)\n",
    "\n",
    "irene.enrol_in_course(particles)\n",
    "pablo.enrol_in_course(particles)"
   ]
  },
  {
   "cell_type": "code",
   "execution_count": 20,
   "metadata": {},
   "outputs": [
    {
     "name": "stdout",
     "output_type": "stream",
     "text": [
      "The student 47363 is not enrolled in Cosmology\n"
     ]
    }
   ],
   "source": [
    "# Let's grade the students\n",
    "python.grade_students([elena, pedro, luisa, irene, pablo], [9, 8.5, 5, 9.5, 7])\n",
    "cosmo.grade_students([elena, pedro, luisa, irene], [10, 7.5, 9, 7])\n",
    "particles.grade_students([irene], [10])"
   ]
  },
  {
   "cell_type": "code",
   "execution_count": 21,
   "metadata": {},
   "outputs": [
    {
     "name": "stdout",
     "output_type": "stream",
     "text": [
      "Transcript of Pedro (73376) \n",
      "Introduction to programming with python (M101): B \n",
      "Cosmology (M102): B \n",
      "\n",
      "Transcript of Luisa (58482) \n",
      "Introduction to programming with python (M101): D \n",
      "Cosmology (M102): A \n",
      "\n",
      "Transcript of Irene (47363) \n",
      "Introduction to programming with python (M101): A \n",
      "Particle Physics (M103): A \n",
      "\n",
      "Transcript of Elena (35362) \n",
      "Introduction to programming with python (M101): A \n",
      "Cosmology (M102): A \n",
      "\n",
      "Transcript of Pablo (72256) \n",
      "Introduction to programming with python (M101): B \n",
      "Particle Physics (M103): - \n",
      "\n"
     ]
    }
   ],
   "source": [
    "# Get the transcript of records of the students enrolled in introduction to programming\n",
    "for student in python.students.values():\n",
    "    print(student.get_transcript_of_records())"
   ]
  },
  {
   "cell_type": "code",
   "execution_count": 22,
   "metadata": {},
   "outputs": [
    {
     "name": "stdout",
     "output_type": "stream",
     "text": [
      "Introduction to programming with python (M101) grades:\n",
      "Pedro (73376):  B \n",
      "Luisa (58482):  D \n",
      "Irene (47363):  A \n",
      "Elena (35362):  A \n",
      "Pablo (72256):  B \n",
      "\n"
     ]
    }
   ],
   "source": [
    "python.print_grades()"
   ]
  }
 ],
 "metadata": {
  "kernelspec": {
   "display_name": "Python 3",
   "language": "python",
   "name": "python3"
  },
  "language_info": {
   "codemirror_mode": {
    "name": "ipython",
    "version": 3
   },
   "file_extension": ".py",
   "mimetype": "text/x-python",
   "name": "python",
   "nbconvert_exporter": "python",
   "pygments_lexer": "ipython3",
   "version": "3.8.5"
  }
 },
 "nbformat": 4,
 "nbformat_minor": 4
}
