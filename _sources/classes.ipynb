{
 "cells": [
  {
   "cell_type": "markdown",
   "metadata": {},
   "source": [
    "# Objects and Classes\n",
    "\n",
    "In OOP, a **Class** is a blueprint for creating objects (a particular data structure), providing initial values for state (member variables or attributes), and implementations of behavior (member functions or methods). Classes are used to create user-defined data structures. Like integers or strings but more complex. \n",
    "\n",
    "A **Class** is the abstract representation of a concept, like dog, integer number, person, etc ... It doesn’t contain any data. On the other hand, an **instance** is an object that is built from a class and contains real data. Let see an example:"
   ]
  },
  {
   "cell_type": "code",
   "execution_count": 41,
   "metadata": {},
   "outputs": [],
   "source": [
    "class Person:\n",
    "    specie = 'Homo Sapiens Sapiens'\n",
    "    \n",
    "    def __init__(self, name, age):\n",
    "        self.name = name\n",
    "        self.age = age\n",
    "        \n",
    "        \n",
    "pepe = Person(\"pepe garcía\", 22)\n",
    "pepa = Person(\"pepa jiménez\", 21)"
   ]
  },
  {
   "cell_type": "markdown",
   "metadata": {},
   "source": [
    "In the above snippet we have defined a class Person. A Person has two attributes name and age. The class itself does not have assigned values to those attributes unlike pepe. `pepe` and `pepa` are two different instances of the Class Person with a given name and age.\n",
    "\n",
    "<div class=\"alert alert-block alert-info\"><b>Note: </b>\n",
    "Python class names are written in CapitalizedWords notation by convention.\n",
    "</div>\n",
    "\n",
    "\n",
    "Classes are composed of attributes and methods.\n",
    "\n",
    "## Attributes \n",
    "\n",
    "- **Class attributes**: data that belong to the class as a whole. There is only one copy of each one for all instances of the class.\n",
    "- **Instance variables or attributes**: data that belongs to individual objects. Each object has its own copy of the attributes.\n",
    "\n",
    "In Python **instance attributes** are defined in the `__init__()` function while **class attributes** are defined by  assigning values to variables outside `__init__()`. Usually they are defined immediately after the first line of the class name. `name` and `age` are instance attributes while `specie` is a class attribute. \n",
    "\n",
    "**Explain init and self**\n",
    "\n",
    "Attributes can be accessed with dot notation:"
   ]
  },
  {
   "cell_type": "code",
   "execution_count": 7,
   "metadata": {},
   "outputs": [
    {
     "data": {
      "text/plain": [
       "'Pepa'"
      ]
     },
     "execution_count": 7,
     "metadata": {},
     "output_type": "execute_result"
    }
   ],
   "source": [
    "pepa.name"
   ]
  },
  {
   "cell_type": "code",
   "execution_count": 8,
   "metadata": {},
   "outputs": [
    {
     "data": {
      "text/plain": [
       "'Homo sapiens sapiens'"
      ]
     },
     "execution_count": 8,
     "metadata": {},
     "output_type": "execute_result"
    }
   ],
   "source": [
    "pepe.specie"
   ]
  },
  {
   "cell_type": "code",
   "execution_count": 9,
   "metadata": {},
   "outputs": [
    {
     "data": {
      "text/plain": [
       "'Homo sapiens sapiens'"
      ]
     },
     "execution_count": 9,
     "metadata": {},
     "output_type": "execute_result"
    }
   ],
   "source": [
    "Person.specie"
   ]
  },
  {
   "cell_type": "markdown",
   "metadata": {},
   "source": [
    "The attributes values can be changed dynamically, i.e., custom objects are mutable by default."
   ]
  },
  {
   "cell_type": "code",
   "execution_count": 11,
   "metadata": {},
   "outputs": [
    {
     "data": {
      "text/plain": [
       "45"
      ]
     },
     "execution_count": 11,
     "metadata": {},
     "output_type": "execute_result"
    }
   ],
   "source": [
    "pepa.age = 45\n",
    "pepa.age"
   ]
  },
  {
   "cell_type": "markdown",
   "metadata": {},
   "source": [
    "## Methods \n",
    "\n",
    "- **Instance methods**: \n",
    "    - Functions that belong to individual objects, and have access to instance variables for the specific object they are called on, inputs, and class variables. \n",
    "    - Can only be called from an instance of that class. \n",
    "    - Just like .__init__(), an instance method’s first parameter is always self.\n",
    "\n",
    "\n",
    "- **Class methods**: \n",
    "    - Methods that are bound to the class and not instances of the class. \n",
    "    - They have access to the state of the class as it takes a class parameter that points to the class and not the object instance (usually _cls_). \n",
    "    - They can modify a class state that would apply across all the instances of the class. For example, a class variable that will be applicable to all the instances. \n",
    "    - They can be called from the class itself or from instances of it.\n",
    "    - They are specified by the decorator `@classmethod`. \n",
    "\n",
    "- **Static methods**: \n",
    "    - Functions that belong to a class but does not need access to any attribute. \n",
    "    - They could be written outside the class but they are defined within a class since they are conceptually intrisically related to that class.\n",
    "    - They can be called from the class itself or from instances of it.\n",
    "    - They are specified by the decorator `@staticmethod`. "
   ]
  },
  {
   "cell_type": "code",
   "execution_count": 54,
   "metadata": {},
   "outputs": [],
   "source": [
    "class Person:\n",
    "    specie = \"Homo Sapiens Sapiens\"\n",
    "    \n",
    "    def __init__(self, name, age):\n",
    "        self.name = name\n",
    "        self.age = age\n",
    "    \n",
    "    def greet(self):\n",
    "        print(f\"Hello! I'm {self.name.title()}.\")\n",
    "        \n",
    "    def get_age(self):\n",
    "        return self.age\n",
    "    \n",
    "    @classmethod \n",
    "    def print_specie(cls):\n",
    "        print(f\"I'm a {cls.specie}\")\n",
    "        \n",
    "    @classmethod \n",
    "    def generate_offspring(cls, name):\n",
    "        return cls(name,0)\n",
    "        \n",
    "    @staticmethod\n",
    "    def is_adult(age):\n",
    "        return age > 18\n",
    "        \n",
    "        \n",
    "pepe = Person(\"pepe garcía\", 22)\n",
    "pepa = Person(\"pepa jiménez\", 21)"
   ]
  },
  {
   "cell_type": "code",
   "execution_count": 55,
   "metadata": {},
   "outputs": [
    {
     "name": "stdout",
     "output_type": "stream",
     "text": [
      "Hello! I'm Pepito.\n"
     ]
    },
    {
     "data": {
      "text/plain": [
       "0"
      ]
     },
     "execution_count": 55,
     "metadata": {},
     "output_type": "execute_result"
    }
   ],
   "source": [
    "pepito = Person.generate_offspring(\"pepito\")\n",
    "pepito.greet()\n",
    "pepito.get_age()"
   ]
  },
  {
   "cell_type": "markdown",
   "metadata": {},
   "source": [
    "The class Person has now two instance methods `greet` and `get_age`, a class method `print_specie` and a static method called `hello`."
   ]
  },
  {
   "cell_type": "code",
   "execution_count": 56,
   "metadata": {},
   "outputs": [
    {
     "name": "stdout",
     "output_type": "stream",
     "text": [
      "Hello! I'm Pepe García.\n"
     ]
    }
   ],
   "source": [
    "pepe.greet()"
   ]
  },
  {
   "cell_type": "code",
   "execution_count": 57,
   "metadata": {},
   "outputs": [
    {
     "data": {
      "text/plain": [
       "21"
      ]
     },
     "execution_count": 57,
     "metadata": {},
     "output_type": "execute_result"
    }
   ],
   "source": [
    "pepa.get_age()"
   ]
  },
  {
   "cell_type": "markdown",
   "metadata": {},
   "source": [
    "Class method vs Static Method\n",
    "\n",
    "- A class method takes cls as the first parameter while a static method needs no specific parameters.\n",
    "- A class method can access or modify the class state while a static method can’t access or modify it.\n",
    "- In general, static methods know nothing about the class state. They are utility-type methods that take some parameters and work upon those parameters. On the other hand class methods must have class as a parameter.\n"
   ]
  },
  {
   "cell_type": "code",
   "execution_count": 58,
   "metadata": {},
   "outputs": [
    {
     "name": "stdout",
     "output_type": "stream",
     "text": [
      "I'm a Homo Sapiens Sapiens\n"
     ]
    }
   ],
   "source": [
    "Person.print_specie()"
   ]
  },
  {
   "cell_type": "code",
   "execution_count": 59,
   "metadata": {},
   "outputs": [
    {
     "data": {
      "text/plain": [
       "True"
      ]
     },
     "execution_count": 59,
     "metadata": {},
     "output_type": "execute_result"
    }
   ],
   "source": [
    "pepe.is_adult(pepe.age)"
   ]
  },
  {
   "cell_type": "markdown",
   "metadata": {},
   "source": [
    "hablar de properties y modificar age por birthday calcular age a partir de birthday"
   ]
  },
  {
   "cell_type": "code",
   "execution_count": 67,
   "metadata": {},
   "outputs": [],
   "source": [
    "from datetime import date\n",
    "\n",
    "\n",
    "class Person:\n",
    "    specie = \"Homo Sapiens Sapiens\"\n",
    "    \n",
    "    def __init__(self, name, birthdate):\n",
    "        self.name = name\n",
    "        self.birthdate = birthdate\n",
    "        \n",
    "    @property\n",
    "    def age(self):\n",
    "        today = date.today()\n",
    "        age = today.year - self.birthdate.year - ((today.month, today.day) < (self.birthdate.month, self.birthdate.day))\n",
    "        return age\n",
    "        \n",
    "    \n",
    "    def greet(self):\n",
    "        print(f\"Hello! I'm {self.name.title()}.\")\n",
    "        \n",
    "    def get_age(self):\n",
    "        return self.age\n",
    "    \n",
    "    @classmethod \n",
    "    def print_specie(cls):\n",
    "        print(f\"I'm a {cls.specie}\")\n",
    "        \n",
    "    @classmethod \n",
    "    def generate_offspring(cls, name):\n",
    "        return cls(name,0)\n",
    "        \n",
    "    @staticmethod\n",
    "    def is_adult(age):\n",
    "        return age > 18"
   ]
  },
  {
   "cell_type": "code",
   "execution_count": 69,
   "metadata": {},
   "outputs": [
    {
     "data": {
      "text/plain": [
       "22"
      ]
     },
     "execution_count": 69,
     "metadata": {},
     "output_type": "execute_result"
    }
   ],
   "source": [
    "pepe = Person(\"pepe\", date(1999, 3, 20))\n",
    "pepe.age"
   ]
  },
  {
   "cell_type": "markdown",
   "metadata": {},
   "source": [
    "## Overriding\n",
    "\n",
    "There are operators which can be re-defined. For example the arithmetic ‘+’  operator,\n",
    "With the current implementation, the statement R3 = R1 + R2 raise an error. \n",
    "But it can be re-defined by modifying the add method definition by\n",
    "\n",
    "- `__repr__`\n",
    "    - Ideally, the string returned by `repr()` should be the one that given to `eval()` returns the same object. \n",
    "\n",
    "- `__str__`"
   ]
  },
  {
   "cell_type": "code",
   "execution_count": 53,
   "metadata": {},
   "outputs": [
    {
     "data": {
      "text/plain": [
       "<__main__.Person at 0x7f8b5fb199a0>"
      ]
     },
     "execution_count": 53,
     "metadata": {},
     "output_type": "execute_result"
    }
   ],
   "source": [
    "pepe"
   ]
  },
  {
   "cell_type": "code",
   "execution_count": 79,
   "metadata": {},
   "outputs": [],
   "source": [
    "class Person:\n",
    "    specie = \"Homo Sapiens Sapiens\"\n",
    "    \n",
    "    def __init__(self, name, birthdate):\n",
    "        self.name = name\n",
    "        self.birthdate = birthdate\n",
    "        \n",
    "    @property\n",
    "    def age(self):\n",
    "        today = date.today()\n",
    "        age = today.year - self.birthdate.year - ((today.month, today.day) < (self.birthdate.month, self.birthdate.day))\n",
    "        return age\n",
    "    \n",
    "    def __repr__(self):\n",
    "        return f\"Person({self.name}, {repr(self.birthdate)})\"\n",
    "    \n",
    "    def __str__(self):\n",
    "        return f\"{self.name.title()}\"\n",
    "    \n",
    "    def greet(self):\n",
    "        print(f\"Hello! I'm {self.name.title()}.\")\n",
    "        \n",
    "    def get_age(self):\n",
    "        return self.age\n",
    "    \n",
    "    @classmethod \n",
    "    def print_specie(cls):\n",
    "        print(f\"I'm a {cls.specie}\")\n",
    "        \n",
    "    @classmethod \n",
    "    def generate_offspring(cls, name):\n",
    "        return cls(name,0)\n",
    "        \n",
    "    @staticmethod\n",
    "    def is_adult(age):\n",
    "        return age > 18    \n",
    "    \n",
    "pepe = Person(\"pepe garcía\", date(1999, 3, 20))\n",
    "pepa = Person(\"pepa jiménez\", date(1997, 6, 5))"
   ]
  },
  {
   "cell_type": "code",
   "execution_count": 77,
   "metadata": {},
   "outputs": [
    {
     "data": {
      "text/plain": [
       "Person(pepe garcía, datetime.date(1999, 3, 20))"
      ]
     },
     "execution_count": 77,
     "metadata": {},
     "output_type": "execute_result"
    }
   ],
   "source": [
    "pepe"
   ]
  },
  {
   "cell_type": "code",
   "execution_count": 78,
   "metadata": {},
   "outputs": [
    {
     "name": "stdout",
     "output_type": "stream",
     "text": [
      "Pepe García\n"
     ]
    }
   ],
   "source": [
    "print(pepe)"
   ]
  },
  {
   "cell_type": "code",
   "execution_count": null,
   "metadata": {},
   "outputs": [],
   "source": []
  }
 ],
 "metadata": {
  "kernelspec": {
   "display_name": "Python 3",
   "language": "python",
   "name": "python3"
  },
  "language_info": {
   "codemirror_mode": {
    "name": "ipython",
    "version": 3
   },
   "file_extension": ".py",
   "mimetype": "text/x-python",
   "name": "python",
   "nbconvert_exporter": "python",
   "pygments_lexer": "ipython3",
   "version": "3.8.5"
  }
 },
 "nbformat": 4,
 "nbformat_minor": 4
}
